{
  "nbformat": 4,
  "nbformat_minor": 0,
  "metadata": {
    "colab": {
      "name": "fix_error_train_loaded_stable_baseline3_model.ipynb",
      "provenance": [],
      "collapsed_sections": [],
      "mount_file_id": "1WsHtYlc-XSDHMeuYidwFl57_sYKPGR-A",
      "authorship_tag": "ABX9TyPv8Ro4f6VhQA3HORMudgmf",
      "include_colab_link": true
    },
    "kernelspec": {
      "name": "python3",
      "display_name": "Python 3"
    },
    "language_info": {
      "name": "python"
    },
    "accelerator": "GPU",
    "gpuClass": "standard"
  },
  "cells": [
    {
      "cell_type": "markdown",
      "metadata": {
        "id": "view-in-github",
        "colab_type": "text"
      },
      "source": [
        "<a href=\"https://colab.research.google.com/github/ArimaRX/codeptit/blob/main/colab/fix_error_train_loaded_stable_baseline3_model.ipynb\" target=\"_parent\"><img src=\"https://colab.research.google.com/assets/colab-badge.svg\" alt=\"Open In Colab\"/></a>"
      ]
    },
    {
      "cell_type": "code",
      "execution_count": 1,
      "metadata": {
        "id": "Xpp1xWXq2vH_"
      },
      "outputs": [],
      "source": [
        "%%capture\n",
        "!sudo apt-get install xvfb xserver-xephyr vnc4server python-opengl ffmpeg\n",
        "!pip3 install pyvirtualdisplay\n",
        "!pip3 install -U colabgymrender\n",
        "!pip install pyglet\n",
        "!pip install stable-baselines3[extra]"
      ]
    },
    {
      "cell_type": "code",
      "source": [
        "import gym\n",
        "from colabgymrender.recorder import Recorder\n",
        "from pyvirtualdisplay import Display\n",
        "from stable_baselines3 import PPO\n",
        "import os\n",
        "from stable_baselines3.common.vec_env import DummyVecEnv\n",
        "from stable_baselines3.common.evaluation import evaluate_policy"
      ],
      "metadata": {
        "colab": {
          "base_uri": "https://localhost:8080/"
        },
        "id": "yCKHjHEC24RO",
        "outputId": "3e4ac7ad-9f75-45e0-f806-a2ba91c5b0a5"
      },
      "execution_count": 2,
      "outputs": [
        {
          "output_type": "stream",
          "name": "stdout",
          "text": [
            "Imageio: 'ffmpeg-linux64-v3.3.1' was not found on your computer; downloading it now.\n",
            "Try 1. Download from https://github.com/imageio/imageio-binaries/raw/master/ffmpeg/ffmpeg-linux64-v3.3.1 (43.8 MB)\n",
            "Downloading: 8192/45929032 bytes (0.0%)\b\b\b\b\b\b\b\b\b\b\b\b\b\b\b\b\b\b\b\b\b\b\b\b\b\b3260416/45929032 bytes (7.1%)\b\b\b\b\b\b\b\b\b\b\b\b\b\b\b\b\b\b\b\b\b\b\b\b\b\b\b\b\b6463488/45929032 bytes (14.1%)\b\b\b\b\b\b\b\b\b\b\b\b\b\b\b\b\b\b\b\b\b\b\b\b\b\b\b\b\b\b9428992/45929032 bytes (20.5%)\b\b\b\b\b\b\b\b\b\b\b\b\b\b\b\b\b\b\b\b\b\b\b\b\b\b\b\b\b\b12967936/45929032 bytes (28.2%)\b\b\b\b\b\b\b\b\b\b\b\b\b\b\b\b\b\b\b\b\b\b\b\b\b\b\b\b\b\b\b17088512/45929032 bytes (37.2%)\b\b\b\b\b\b\b\b\b\b\b\b\b\b\b\b\b\b\b\b\b\b\b\b\b\b\b\b\b\b\b21258240/45929032 bytes (46.3%)\b\b\b\b\b\b\b\b\b\b\b\b\b\b\b\b\b\b\b\b\b\b\b\b\b\b\b\b\b\b\b25411584/45929032 bytes (55.3%)\b\b\b\b\b\b\b\b\b\b\b\b\b\b\b\b\b\b\b\b\b\b\b\b\b\b\b\b\b\b\b29253632/45929032 bytes (63.7%)\b\b\b\b\b\b\b\b\b\b\b\b\b\b\b\b\b\b\b\b\b\b\b\b\b\b\b\b\b\b\b33128448/45929032 bytes (72.1%)\b\b\b\b\b\b\b\b\b\b\b\b\b\b\b\b\b\b\b\b\b\b\b\b\b\b\b\b\b\b\b37330944/45929032 bytes (81.3%)\b\b\b\b\b\b\b\b\b\b\b\b\b\b\b\b\b\b\b\b\b\b\b\b\b\b\b\b\b\b\b41385984/45929032 bytes (90.1%)\b\b\b\b\b\b\b\b\b\b\b\b\b\b\b\b\b\b\b\b\b\b\b\b\b\b\b\b\b\b\b45580288/45929032 bytes (99.2%)\b\b\b\b\b\b\b\b\b\b\b\b\b\b\b\b\b\b\b\b\b\b\b\b\b\b\b\b\b\b\b45929032/45929032 bytes (100.0%)\n",
            "  Done\n",
            "File saved as /root/.imageio/ffmpeg/ffmpeg-linux64-v3.3.1.\n"
          ]
        }
      ]
    },
    {
      "cell_type": "code",
      "source": [
        "display = Display(visible=0, size=(400, 300))\n",
        "display.start();"
      ],
      "metadata": {
        "id": "KVtvfzdS29KE"
      },
      "execution_count": 3,
      "outputs": []
    },
    {
      "cell_type": "code",
      "source": [
        "env = gym.make('CartPole-v0')\n",
        "env = Recorder(env, './video', fps=60)"
      ],
      "metadata": {
        "id": "G90dwtp2292z"
      },
      "execution_count": 4,
      "outputs": []
    },
    {
      "cell_type": "code",
      "source": [
        "log_path = os.path.join('Training', 'Logs')"
      ],
      "metadata": {
        "id": "q9e-pXMo56EE"
      },
      "execution_count": 5,
      "outputs": []
    },
    {
      "cell_type": "code",
      "source": [
        "env = DummyVecEnv([lambda: env])"
      ],
      "metadata": {
        "id": "MwONoy8QHCqu"
      },
      "execution_count": 6,
      "outputs": []
    },
    {
      "cell_type": "code",
      "source": [
        "model = PPO('MlpPolicy', env, verbose=1, tensorboard_log=log_path)"
      ],
      "metadata": {
        "colab": {
          "base_uri": "https://localhost:8080/"
        },
        "id": "8K6X1uNrHQM-",
        "outputId": "b41e4852-6efa-4fc7-ad9c-a50d05b33ced"
      },
      "execution_count": 7,
      "outputs": [
        {
          "output_type": "stream",
          "name": "stdout",
          "text": [
            "Using cuda device\n"
          ]
        }
      ]
    },
    {
      "cell_type": "code",
      "source": [
        "model.learn(total_timesteps=20000)"
      ],
      "metadata": {
        "colab": {
          "base_uri": "https://localhost:8080/"
        },
        "id": "SwUY-z4pNO1Y",
        "outputId": "1b3de6e0-477c-4c8f-9033-93907e463c4f"
      },
      "execution_count": 8,
      "outputs": [
        {
          "output_type": "stream",
          "name": "stdout",
          "text": [
            "Logging to Training/Logs/PPO_1\n",
            "-----------------------------\n",
            "| time/              |      |\n",
            "|    fps             | 100  |\n",
            "|    iterations      | 1    |\n",
            "|    time_elapsed    | 20   |\n",
            "|    total_timesteps | 2048 |\n",
            "-----------------------------\n",
            "------------------------------------------\n",
            "| time/                   |              |\n",
            "|    fps                  | 119          |\n",
            "|    iterations           | 2            |\n",
            "|    time_elapsed         | 34           |\n",
            "|    total_timesteps      | 4096         |\n",
            "| train/                  |              |\n",
            "|    approx_kl            | 0.0079026455 |\n",
            "|    clip_fraction        | 0.084        |\n",
            "|    clip_range           | 0.2          |\n",
            "|    entropy_loss         | -0.686       |\n",
            "|    explained_variance   | -0.00151     |\n",
            "|    learning_rate        | 0.0003       |\n",
            "|    loss                 | 4.92         |\n",
            "|    n_updates            | 10           |\n",
            "|    policy_gradient_loss | -0.0114      |\n",
            "|    value_loss           | 44.1         |\n",
            "------------------------------------------\n",
            "-----------------------------------------\n",
            "| time/                   |             |\n",
            "|    fps                  | 128         |\n",
            "|    iterations           | 3           |\n",
            "|    time_elapsed         | 47          |\n",
            "|    total_timesteps      | 6144        |\n",
            "| train/                  |             |\n",
            "|    approx_kl            | 0.008804088 |\n",
            "|    clip_fraction        | 0.0627      |\n",
            "|    clip_range           | 0.2         |\n",
            "|    entropy_loss         | -0.67       |\n",
            "|    explained_variance   | 0.0868      |\n",
            "|    learning_rate        | 0.0003      |\n",
            "|    loss                 | 10.4        |\n",
            "|    n_updates            | 20          |\n",
            "|    policy_gradient_loss | -0.0187     |\n",
            "|    value_loss           | 36.4        |\n",
            "-----------------------------------------\n",
            "-----------------------------------------\n",
            "| time/                   |             |\n",
            "|    fps                  | 133         |\n",
            "|    iterations           | 4           |\n",
            "|    time_elapsed         | 61          |\n",
            "|    total_timesteps      | 8192        |\n",
            "| train/                  |             |\n",
            "|    approx_kl            | 0.010822411 |\n",
            "|    clip_fraction        | 0.119       |\n",
            "|    clip_range           | 0.2         |\n",
            "|    entropy_loss         | -0.634      |\n",
            "|    explained_variance   | 0.328       |\n",
            "|    learning_rate        | 0.0003      |\n",
            "|    loss                 | 20.7        |\n",
            "|    n_updates            | 30          |\n",
            "|    policy_gradient_loss | -0.0242     |\n",
            "|    value_loss           | 49.1        |\n",
            "-----------------------------------------\n",
            "------------------------------------------\n",
            "| time/                   |              |\n",
            "|    fps                  | 136          |\n",
            "|    iterations           | 5            |\n",
            "|    time_elapsed         | 74           |\n",
            "|    total_timesteps      | 10240        |\n",
            "| train/                  |              |\n",
            "|    approx_kl            | 0.0066618966 |\n",
            "|    clip_fraction        | 0.0569       |\n",
            "|    clip_range           | 0.2          |\n",
            "|    entropy_loss         | -0.614       |\n",
            "|    explained_variance   | 0.141        |\n",
            "|    learning_rate        | 0.0003       |\n",
            "|    loss                 | 26.3         |\n",
            "|    n_updates            | 40           |\n",
            "|    policy_gradient_loss | -0.0152      |\n",
            "|    value_loss           | 70.2         |\n",
            "------------------------------------------\n",
            "------------------------------------------\n",
            "| time/                   |              |\n",
            "|    fps                  | 139          |\n",
            "|    iterations           | 6            |\n",
            "|    time_elapsed         | 88           |\n",
            "|    total_timesteps      | 12288        |\n",
            "| train/                  |              |\n",
            "|    approx_kl            | 0.0058657303 |\n",
            "|    clip_fraction        | 0.0443       |\n",
            "|    clip_range           | 0.2          |\n",
            "|    entropy_loss         | -0.601       |\n",
            "|    explained_variance   | 0.329        |\n",
            "|    learning_rate        | 0.0003       |\n",
            "|    loss                 | 27.9         |\n",
            "|    n_updates            | 50           |\n",
            "|    policy_gradient_loss | -0.00981     |\n",
            "|    value_loss           | 66.7         |\n",
            "------------------------------------------\n",
            "-----------------------------------------\n",
            "| time/                   |             |\n",
            "|    fps                  | 141         |\n",
            "|    iterations           | 7           |\n",
            "|    time_elapsed         | 101         |\n",
            "|    total_timesteps      | 14336       |\n",
            "| train/                  |             |\n",
            "|    approx_kl            | 0.005923687 |\n",
            "|    clip_fraction        | 0.0347      |\n",
            "|    clip_range           | 0.2         |\n",
            "|    entropy_loss         | -0.589      |\n",
            "|    explained_variance   | 0.531       |\n",
            "|    learning_rate        | 0.0003      |\n",
            "|    loss                 | 8.27        |\n",
            "|    n_updates            | 60          |\n",
            "|    policy_gradient_loss | -0.00886    |\n",
            "|    value_loss           | 54.9        |\n",
            "-----------------------------------------\n",
            "-----------------------------------------\n",
            "| time/                   |             |\n",
            "|    fps                  | 142         |\n",
            "|    iterations           | 8           |\n",
            "|    time_elapsed         | 114         |\n",
            "|    total_timesteps      | 16384       |\n",
            "| train/                  |             |\n",
            "|    approx_kl            | 0.007148081 |\n",
            "|    clip_fraction        | 0.0511      |\n",
            "|    clip_range           | 0.2         |\n",
            "|    entropy_loss         | -0.598      |\n",
            "|    explained_variance   | 0.775       |\n",
            "|    learning_rate        | 0.0003      |\n",
            "|    loss                 | 5.96        |\n",
            "|    n_updates            | 70          |\n",
            "|    policy_gradient_loss | -0.0066     |\n",
            "|    value_loss           | 36.1        |\n",
            "-----------------------------------------\n",
            "------------------------------------------\n",
            "| time/                   |              |\n",
            "|    fps                  | 143          |\n",
            "|    iterations           | 9            |\n",
            "|    time_elapsed         | 128          |\n",
            "|    total_timesteps      | 18432        |\n",
            "| train/                  |              |\n",
            "|    approx_kl            | 0.0048134755 |\n",
            "|    clip_fraction        | 0.0383       |\n",
            "|    clip_range           | 0.2          |\n",
            "|    entropy_loss         | -0.598       |\n",
            "|    explained_variance   | 0.589        |\n",
            "|    learning_rate        | 0.0003       |\n",
            "|    loss                 | 21.7         |\n",
            "|    n_updates            | 80           |\n",
            "|    policy_gradient_loss | -0.0056      |\n",
            "|    value_loss           | 32.4         |\n",
            "------------------------------------------\n",
            "------------------------------------------\n",
            "| time/                   |              |\n",
            "|    fps                  | 144          |\n",
            "|    iterations           | 10           |\n",
            "|    time_elapsed         | 141          |\n",
            "|    total_timesteps      | 20480        |\n",
            "| train/                  |              |\n",
            "|    approx_kl            | 0.0031679333 |\n",
            "|    clip_fraction        | 0.0143       |\n",
            "|    clip_range           | 0.2          |\n",
            "|    entropy_loss         | -0.576       |\n",
            "|    explained_variance   | 0.391        |\n",
            "|    learning_rate        | 0.0003       |\n",
            "|    loss                 | 28.9         |\n",
            "|    n_updates            | 90           |\n",
            "|    policy_gradient_loss | -0.00317     |\n",
            "|    value_loss           | 52.2         |\n",
            "------------------------------------------\n"
          ]
        },
        {
          "output_type": "execute_result",
          "data": {
            "text/plain": [
              "<stable_baselines3.ppo.ppo.PPO at 0x7f6120472850>"
            ]
          },
          "metadata": {},
          "execution_count": 8
        }
      ]
    },
    {
      "cell_type": "code",
      "source": [
        "PPO_Path = os.path.join('Training', 'Saved Models', 'PPO_Model_CartPole')"
      ],
      "metadata": {
        "id": "c9svdDy8PBJo"
      },
      "execution_count": 9,
      "outputs": []
    },
    {
      "cell_type": "code",
      "source": [
        "model.save(PPO_Path)"
      ],
      "metadata": {
        "id": "_HBxBO1kPRwP"
      },
      "execution_count": 10,
      "outputs": []
    },
    {
      "cell_type": "code",
      "source": [
        "del model"
      ],
      "metadata": {
        "id": "PV7RsUUyeYOF"
      },
      "execution_count": 11,
      "outputs": []
    },
    {
      "cell_type": "code",
      "source": [
        "model = PPO('MlpPolicy', env, verbose=1, tensorboard_log=log_path)\n",
        "model.load(PPO_Path)"
      ],
      "metadata": {
        "colab": {
          "base_uri": "https://localhost:8080/"
        },
        "id": "AqtOeg-beZoe",
        "outputId": "f84f3e28-a198-4b23-fd92-b6ea6b9a78dd"
      },
      "execution_count": 12,
      "outputs": [
        {
          "output_type": "stream",
          "name": "stdout",
          "text": [
            "Using cuda device\n"
          ]
        },
        {
          "output_type": "execute_result",
          "data": {
            "text/plain": [
              "<stable_baselines3.ppo.ppo.PPO at 0x7f6079ba0d10>"
            ]
          },
          "metadata": {},
          "execution_count": 12
        }
      ]
    },
    {
      "cell_type": "code",
      "source": [
        "model.learn(total_timesteps=1000)"
      ],
      "metadata": {
        "colab": {
          "base_uri": "https://localhost:8080/"
        },
        "id": "A39680WcQFNW",
        "outputId": "3ec7ac46-e054-46c1-8fe9-aa0fdb337957"
      },
      "execution_count": 14,
      "outputs": [
        {
          "output_type": "stream",
          "name": "stdout",
          "text": [
            "Logging to Training/Logs/PPO_2\n",
            "-----------------------------\n",
            "| time/              |      |\n",
            "|    fps             | 164  |\n",
            "|    iterations      | 1    |\n",
            "|    time_elapsed    | 12   |\n",
            "|    total_timesteps | 2048 |\n",
            "-----------------------------\n"
          ]
        },
        {
          "output_type": "execute_result",
          "data": {
            "text/plain": [
              "<stable_baselines3.ppo.ppo.PPO at 0x7f60781f5f10>"
            ]
          },
          "metadata": {},
          "execution_count": 14
        }
      ]
    }
  ]
}